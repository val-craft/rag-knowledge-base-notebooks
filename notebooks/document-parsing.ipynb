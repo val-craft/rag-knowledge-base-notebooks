{
 "cells": [
  {
   "cell_type": "markdown",
   "id": "808446db-b798-4d91-9401-648089083e8b",
   "metadata": {},
   "source": [
    "## Advanced Document Parsing\n",
    "\n",
    "Extracts clean structure from messy PDFs\n",
    "\n",
    "[DOCLING](https://www.docling.ai/)"
   ]
  }
 ],
 "metadata": {
  "kernelspec": {
   "display_name": "Python 3 (ipykernel)",
   "language": "python",
   "name": "python3"
  },
  "language_info": {
   "codemirror_mode": {
    "name": "ipython",
    "version": 3
   },
   "file_extension": ".py",
   "mimetype": "text/x-python",
   "name": "python",
   "nbconvert_exporter": "python",
   "pygments_lexer": "ipython3",
   "version": "3.12.11"
  }
 },
 "nbformat": 4,
 "nbformat_minor": 5
}
